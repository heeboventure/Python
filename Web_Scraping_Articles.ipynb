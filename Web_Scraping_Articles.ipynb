{
  "nbformat": 4,
  "nbformat_minor": 0,
  "metadata": {
    "colab": {
      "name": "Web Scraping - Articles.ipynb",
      "provenance": [],
      "authorship_tag": "ABX9TyM5UHw+yjyS8qhnTEm5mK7Q",
      "include_colab_link": true
    },
    "kernelspec": {
      "name": "python3",
      "display_name": "Python 3"
    }
  },
  "cells": [
    {
      "cell_type": "markdown",
      "metadata": {
        "id": "view-in-github",
        "colab_type": "text"
      },
      "source": [
        "<a href=\"https://colab.research.google.com/github/heeboventure/Python/blob/main/Web_Scraping_Articles.ipynb\" target=\"_parent\"><img src=\"https://colab.research.google.com/assets/colab-badge.svg\" alt=\"Open In Colab\"/></a>"
      ]
    },
    {
      "cell_type": "markdown",
      "metadata": {
        "id": "rtyxiswvfpNc"
      },
      "source": [
        "# 기사 웹 스크래핑 & 첨부파일과 함께 다수에게 이메일 보내기"
      ]
    },
    {
      "cell_type": "code",
      "metadata": {
        "id": "9nq9u3h1gREw"
      },
      "source": [
        "# 기사 스크래핑 시작 코드\n",
        "\n",
        "from bs4 import BeautifulSoup\n",
        "from selenium import webdriver\n",
        "\n",
        "driver = webdriver.Chrome('chromedriver')\n",
        "\n",
        "url = \"https://search.naver.com/search.naver?where=news&sm=tab_jum&query=추석\"\n",
        "\n",
        "driver.get(url)\n",
        "req = driver.page_source\n",
        "soup = BeautifulSoup(req, 'html.parser')\n",
        "\n",
        "### 아래 코드 참고 ###\n",
        "\n",
        "driver.quit()"
      ],
      "execution_count": null,
      "outputs": []
    },
    {
      "cell_type": "markdown",
      "metadata": {
        "id": "2Cuw0c5DlaKk"
      },
      "source": [
        "### .text 로 텍스트만 가져오기"
      ]
    },
    {
      "cell_type": "code",
      "metadata": {
        "id": "ZMUK0aUahbl0"
      },
      "source": [
        "articles = soup.select_one('#sp_nws1 > dl > dt > a')\n",
        "\n",
        "print(articles.text)\n",
        "\n",
        "# 이렇게 .text 해주면 태그 중에서 텍스트만 가져온다."
      ],
      "execution_count": null,
      "outputs": []
    },
    {
      "cell_type": "markdown",
      "metadata": {
        "id": "qElywFdQjKJ-"
      },
      "source": [
        "### 가져오고자 하는 여러 개의 기사들 selector에 일정한 규칙이 없을 때 (이미지 웹 스크래핑과 달리)\n",
        "\n",
        "- selector 코드를 보니 기사가 li로 되어있고 기사들을 모두 묶는 게 ul로 되어 있음 \n",
        "- --> ul을 copy selector 해서 그 안의 li를 가져오는 방식 선택"
      ]
    },
    {
      "cell_type": "code",
      "metadata": {
        "id": "LYDkD_U3lNEY"
      },
      "source": [
        "articles = soup.select('#main_pack > div.news.mynews.section._prs_nws > ul > li')\n",
        "\n",
        "# 기사 제목과 보이는 내용 스크래핑\n",
        "for article in articles:\n",
        "    title = article.select_one('dl > dt > a').text\n",
        "    content = article.select_one('dl > dd:nth-child(3)').text"
      ],
      "execution_count": null,
      "outputs": []
    },
    {
      "cell_type": "markdown",
      "metadata": {
        "id": "XgqZKhO7mM5R"
      },
      "source": [
        "### 기사 URL과 신문사 스크래핑"
      ]
    },
    {
      "cell_type": "code",
      "metadata": {
        "id": "8xEi-QE2o-W9"
      },
      "source": [
        "# 기사 url과 언론사 이름도 소스코드 보면서 찾기\n",
        "url = article.select_one('dl > dt > a')['href']\n",
        "comp = article.select_one('span._sp_each_source').text.split('언론사')[0]"
      ],
      "execution_count": null,
      "outputs": []
    },
    {
      "cell_type": "markdown",
      "metadata": {
        "id": "h71hcrdhpRZ9"
      },
      "source": [
        "### 엑셀로 저장하기"
      ]
    },
    {
      "cell_type": "markdown",
      "metadata": {
        "id": "bZynpJqfrINm"
      },
      "source": [
        "- openpyxl 패키지 설치"
      ]
    },
    {
      "cell_type": "code",
      "metadata": {
        "id": "anRVR39ErG23"
      },
      "source": [
        "# 엑셀 저장 기본 코드\n",
        "from openpyxl import Workbook\n",
        "\n",
        "wb = Workbook()\n",
        "ws1 = wb.active\n",
        "ws1.title = \"articles\" #시트 이름 설정\n",
        "ws1.append([\"제목\", \"링크\", \"신문사\"])\n",
        "\n",
        "wb.save(filename='articles.xlsx') # 엑셀 저장"
      ],
      "execution_count": null,
      "outputs": []
    },
    {
      "cell_type": "markdown",
      "metadata": {
        "id": "FQdihpAKrlbV"
      },
      "source": [
        "### 전체 코드 - 여러 기사 엑셀 저장"
      ]
    },
    {
      "cell_type": "code",
      "metadata": {
        "id": "fojeBhb6rumY"
      },
      "source": [
        "from openpyxl import Workbook\n",
        "from bs4 import BeautifulSoup\n",
        "from selenium import webdriver\n",
        "\n",
        "driver = webdriver.Chrome('chromedriver')\n",
        "\n",
        "url = \"https://search.naver.com/search.naver?where=news&sm=tab_jum&query=추석\"\n",
        "\n",
        "driver.get(url)\n",
        "req = driver.page_source\n",
        "soup = BeautifulSoup(req, 'html.parser')\n",
        "\n",
        "articles = soup.select('#main_pack > div.news.mynews.section._prs_nws > ul > li')\n",
        "\n",
        "wb = Workbook()\n",
        "ws1 = wb.active\n",
        "ws1.title = \"articles\"\n",
        "ws1.append([\"제목\", \"링크\", \"신문사\"])\n",
        "\n",
        "for article in articles:\n",
        "    title = article.select_one('dl > dt > a').text\n",
        "    url = article.select_one('dl > dt > a')['href']\n",
        "    comp = article.select_one('span._sp_each_source').text.split('언론사')[0]\n",
        "    ws1.append([title, url, comp])\n",
        "\n",
        "driver.quit()\n",
        "wb.save(filename='articles.xlsx')"
      ],
      "execution_count": null,
      "outputs": []
    },
    {
      "cell_type": "markdown",
      "metadata": {
        "id": "c_3jXlgC2tLE"
      },
      "source": [
        "### 여러 사람에게 이메일 보내기"
      ]
    },
    {
      "cell_type": "code",
      "metadata": {
        "id": "npquZoIN2xba"
      },
      "source": [
        "import smtplib\n",
        "from email.mime.multipart import MIMEMultipart\n",
        "from email.mime.base import MIMEBase\n",
        "from email.mime.text import MIMEText\n",
        "from email import encoders\n",
        "\n",
        "# 보내는 사람 정보\n",
        "me = \"이메일@gmail.com\"\n",
        "my_password = \"비밀번호\"\n",
        "\n",
        "# 로그인하기\n",
        "s = smtplib.SMTP_SSL('smtp.gmail.com')\n",
        "s.login(me, my_password)\n",
        "\n",
        "# 받는 사람 정보 - 받을 여러 명의 주소를 List로!\n",
        "emails = ['이메일1@naver.com', '이메일2@gmail.com']\n",
        "\n",
        "for you in emails:\n",
        "  # 메일 기본 정보 설정\n",
        "  msg = MIMEMultipart('alternative')\n",
        "  msg['Subject'] = \"dear 여러 명\"\n",
        "  msg['From'] = me\n",
        "  msg['To'] = you\n",
        "\n",
        "  # 메일 내용 쓰기\n",
        "  content = \"여러 명에게 보내는 이메일\"\n",
        "  part2 = MIMEText(content, 'plain')\n",
        "  msg.attach(part2)\n",
        "\n",
        "  # 메일 보내고 서버 끄기\n",
        "  s.sendmail(me, you, msg.as_string())\n",
        "\n",
        "s.quit()"
      ],
      "execution_count": null,
      "outputs": []
    },
    {
      "cell_type": "markdown",
      "metadata": {
        "id": "0azjbhkb3fX9"
      },
      "source": [
        "### 파일 첨부하기"
      ]
    },
    {
      "cell_type": "code",
      "metadata": {
        "id": "CyTPdgi13iFq"
      },
      "source": [
        "# 파일 첨부 코드\n",
        "part = MIMEBase('application', \"octet-stream\")\n",
        "with open(\"articles.xlsx\", 'rb') as file:\n",
        "    part.set_payload(file.read())\n",
        "encoders.encode_base64(part)\n",
        "part.add_header('Content-Disposition', \"attachment\", filename=\"추석기사.xlsx\") # '추석기사'라는 파일명으로 전송\n",
        "msg.attach(part)"
      ],
      "execution_count": null,
      "outputs": []
    },
    {
      "cell_type": "markdown",
      "metadata": {
        "id": "KSejj_irWw0s"
      },
      "source": [
        "### 전체 코드 - 기사 스크래핑 및 다수에 첨부파일 이메일 전송"
      ]
    },
    {
      "cell_type": "code",
      "metadata": {
        "id": "kVkhpeVZWr1P"
      },
      "source": [
        "import dload\n",
        "from bs4 import BeautifulSoup\n",
        "from selenium import webdriver\n",
        "from openpyxl import Workbook\n",
        "import smtplib\n",
        "from email.mime.multipart import MIMEMultipart\n",
        "from email.mime.base import MIMEBase\n",
        "from email.mime.text import MIMEText\n",
        "from email import encoders\n",
        "\n",
        "driver = webdriver.Chrome('chromedriver')\n",
        "url = 'https://search.naver.com/search.naver?where=news&sm=tab_jum&query=%EC%9D%B8%EA%B3%B5%EC%A7%80%EB%8A%A5'\n",
        "\n",
        "driver.get(url)\n",
        "req = driver.page_source\n",
        "soup = BeautifulSoup(req, 'html.parser')\n",
        "\n",
        "wb = Workbook()\n",
        "ws1 = wb.active\n",
        "ws1.title = '인공지능 기사 모음'\n",
        "ws1.append(['기사 제목', '링크', '신문사', '썸네일'])\n",
        "\n",
        "## 기사 스크래핑\n",
        "articles = soup.select('#main_pack > div.news.mynews.section._prs_nws > ul > li')\n",
        "\n",
        "i = 1\n",
        "for article in articles:\n",
        "    #기사제목 스크래핑\n",
        "    title = article.select_one('dl > dt > a').text\n",
        "    #기사 url 스크래핑\n",
        "    url = article.select_one('div > a')['href']\n",
        "    #신문사 스크래핑\n",
        "    comp = article.select_one('span._sp_each_source').text.split('언론사')[0]\n",
        "    # 썸네일 스크래핑 & 이미지 저장\n",
        "    thumb = article.select_one('div > a > img')['src']\n",
        "    dload.save(thumb, f'article_thumbnail/{i}.jpg')\n",
        "    i += 1\n",
        "\n",
        "    ws1.append([title, url, comp, thumb])\n",
        "\n",
        "driver.quit()\n",
        "wb.save(filename='articles.xlsx')\n",
        "\n",
        "## 여러 명에게 이메일 보내기\n",
        "\n",
        "# 보내는 사람 정보\n",
        "me = \"이메일@gmail.com\"\n",
        "my_password = \"비밀번호\"\n",
        "\n",
        "# 로그인하기\n",
        "s = smtplib.SMTP_SSL('smtp.gmail.com')\n",
        "s.login(me, my_password)\n",
        "\n",
        "# 받는 사람 정보\n",
        "yous = ['이메일1@naver.com', '이메일2@gmail.com']\n",
        "\n",
        "for you in yous:\n",
        "    # 메일 기본 정보 설정\n",
        "    msg = MIMEMultipart('alternative')\n",
        "    msg['Subject'] = \"인공지능 기사 모음 파일 전달\"\n",
        "    msg['From'] = me\n",
        "    msg['To'] = you\n",
        "\n",
        "    # 메일 내용 쓰기\n",
        "    content = \"인공지능 관련 기사 모음 이메일 보내드립니다.\"\n",
        "    part2 = MIMEText(content, 'plain')\n",
        "    msg.attach(part2)\n",
        "\n",
        "    # 파일 첨부하기\n",
        "    part = MIMEBase('application', \"octet-stream\")\n",
        "    with open(\"articles.xlsx\", 'rb') as file:\n",
        "        part.set_payload(file.read())\n",
        "    encoders.encode_base64(part)\n",
        "    part.add_header('Content-Disposition', \"attachment\", filename=\"AI기사.xlsx\")\n",
        "    msg.attach(part)\n",
        "\n",
        "    # 메일 보내고 서버 끄기\n",
        "    s.sendmail(me, you, msg.as_string())\n",
        "\n",
        "s.quit()"
      ],
      "execution_count": null,
      "outputs": []
    }
  ]
}