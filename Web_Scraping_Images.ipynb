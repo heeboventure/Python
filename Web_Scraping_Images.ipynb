{
  "nbformat": 4,
  "nbformat_minor": 0,
  "metadata": {
    "colab": {
      "name": "Web Scraping - Images.ipynb",
      "provenance": [],
      "authorship_tag": "ABX9TyOxyBlxnyTPPN0IyxwmIuhX",
      "include_colab_link": true
    },
    "kernelspec": {
      "name": "python3",
      "display_name": "Python 3"
    }
  },
  "cells": [
    {
      "cell_type": "markdown",
      "metadata": {
        "id": "view-in-github",
        "colab_type": "text"
      },
      "source": [
        "<a href=\"https://colab.research.google.com/github/heeboventure/Python/blob/main/Web_Scraping_Images.ipynb\" target=\"_parent\"><img src=\"https://colab.research.google.com/assets/colab-badge.svg\" alt=\"Open In Colab\"/></a>"
      ]
    },
    {
      "cell_type": "markdown",
      "metadata": {
        "id": "4orvCiCOE98t"
      },
      "source": [
        "# 이미지 웹 스크래핑(크롤링) - Web Scraping"
      ]
    },
    {
      "cell_type": "markdown",
      "metadata": {
        "id": "JORo-X1fFDTz"
      },
      "source": [
        "- 개념: 웹 페이지에서 우리가 원하는 부분의 데이터를 수집하는 것\n",
        "  (브라우저를 제어해 거기서 받아온 html, css, js 코드를 받아와서 원하는 것만 솎아내는 작업)\n",
        "\n",
        "- 2 가지 package 필요\n",
        "  1.   브라우저를 제어하는 package - selenium\n",
        "  2.   그 중 우리가 원하는 것만 가져올 수 있게 하는 library - BeautifulSoup\n",
        "\n",
        "- Chrome > 도움말 > Chrome 정보 > 크롬 버전 확인\n",
        "- 셀레니움 웹드라이버 설치 링크: https://chromedriver.storage.googleapis.com/index.html?path=85.0.4183.87/\n",
        "- 설치 후 압축해제 -> 폴더 안의 chromedriver파일을 sparta 폴더에 넣기\n"
      ]
    },
    {
      "cell_type": "code",
      "metadata": {
        "id": "3-gn4qTitNSu"
      },
      "source": [
        "# 셀레니움 시작 코드\n",
        "from selenium import webdriver\n",
        "driver = webdriver.Chrome('chromedriver')\n",
        "\n",
        "driver.get(\"http://www.naver.com\")"
      ],
      "execution_count": null,
      "outputs": []
    },
    {
      "cell_type": "code",
      "metadata": {
        "id": "1Q6z1b3GtOyW"
      },
      "source": [
        "# 크롤링 기본 세팅 코드\n",
        "from bs4 import BeautifulSoup\n",
        "from selenium import webdriver\n",
        "import time\n",
        "\n",
        "# 드라이버로 페이지 띄우기\n",
        "driver = webdriver.Chrome('chromedriver') # 웹드라이버 파일의 경로\n",
        "driver.get(\"https://search.daum.net/search?w=img&nil_search=btn&DA=NTB&enc=utf8&q=%EC%8B%A0%EB%AF%BC%EC%95%84\")\n",
        "time.sleep(5)\n",
        "\n",
        "req = driver.page_source # 페이지에서 받아온 결과를 모두 저장\n",
        "soup = BeautifulSoup(req, 'html.parser') # HTML을 BeautifulSoup 라이브러리를 활용해 검색하기 용이한 상태로 만듦\n",
        "\n",
        "### 여기에 작성될 코드는 아래 참고 ###\n",
        "\n",
        "driver.quit() # 끝나면 브라우저 닫기"
      ],
      "execution_count": null,
      "outputs": []
    },
    {
      "cell_type": "code",
      "metadata": {
        "id": "WJQZZOZN07Pt"
      },
      "source": [
        "# 이미지 여러 개 가져와서 저장하기\n",
        "thumbnails = soup.select('#imgList > div > a > img') # 하나의 이미지일 땐 select_one\n",
        "\n",
        "for thumbnail in thumbnails:\n",
        "    image = thumbnail['src']\n",
        "    print(image)"
      ],
      "execution_count": null,
      "outputs": []
    },
    {
      "cell_type": "code",
      "metadata": {
        "id": "gbIRpJUg1Dzd"
      },
      "source": [
        "# dload를 import해 스크래핑한 이미지를 폴더에 저장\n",
        "\n",
        "i = 1\n",
        "for thumbnail in thumbnails:\n",
        "  image = thumbnail['src']\n",
        "  dload.save(image, f'img/{i}.jpg')\n",
        "  i += 1"
      ],
      "execution_count": null,
      "outputs": []
    },
    {
      "cell_type": "markdown",
      "metadata": {
        "id": "vNWKhT_JrpFd"
      },
      "source": [
        "### 전체 코드"
      ]
    },
    {
      "cell_type": "code",
      "metadata": {
        "id": "tYDXWCsD7Nbu"
      },
      "source": [
        "# 전체 코드\n",
        "import dload\n",
        "from bs4 import BeautifulSoup\n",
        "from selenium import webdriver\n",
        "import time\n",
        "\n",
        "driver = webdriver.Chrome('chromedriver')\n",
        "driver.get('https://search.daum.net/search?w=img&nil_search=btn&DA=NTB&enc=utf8&q=%EC%8B%A0%EB%AF%BC%EC%95%84')\n",
        "time.sleep(5)\n",
        "\n",
        "req = driver.page_source\n",
        "soup = BeautifulSoup(req, 'html.parser')\n",
        "\n",
        "thumbnails = soup.select('#imgList > div > a > img')\n",
        "\n",
        "i = 1\n",
        "for thumbnail in thumbnails:\n",
        "    image = thumbnail['src']\n",
        "    dload.save(image, f'img/{i}.jpg')\n",
        "    i += 1\n",
        "\n",
        "driver.quit()"
      ],
      "execution_count": null,
      "outputs": []
    }
  ]
}