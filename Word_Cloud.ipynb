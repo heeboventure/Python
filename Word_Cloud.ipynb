{
  "nbformat": 4,
  "nbformat_minor": 0,
  "metadata": {
    "colab": {
      "name": "Word Cloud.ipynb",
      "provenance": [],
      "authorship_tag": "ABX9TyOyalm9osJsocPptjNbgh1F",
      "include_colab_link": true
    },
    "kernelspec": {
      "name": "python3",
      "display_name": "Python 3"
    }
  },
  "cells": [
    {
      "cell_type": "markdown",
      "metadata": {
        "id": "view-in-github",
        "colab_type": "text"
      },
      "source": [
        "<a href=\"https://colab.research.google.com/github/heeboventure/Python/blob/main/Word_Cloud.ipynb\" target=\"_parent\"><img src=\"https://colab.research.google.com/assets/colab-badge.svg\" alt=\"Open In Colab\"/></a>"
      ]
    },
    {
      "cell_type": "markdown",
      "metadata": {
        "id": "ljsQxgkIBRpe"
      },
      "source": [
        "# 워드 클라우드 만들기"
      ]
    },
    {
      "cell_type": "markdown",
      "metadata": {
        "id": "4HpMQNH0TbUH"
      },
      "source": [
        "### 텍스트 파일 쓰기 및 읽기"
      ]
    },
    {
      "cell_type": "code",
      "metadata": {
        "id": "13bXoKIsBKtY"
      },
      "source": [
        "# 텍스트 파일 쓰기\n",
        "f = open(\"test.txt\", \"w\", encoding=\"utf-8\") # w: write mode, r: read mode, a: add mode\n",
        "f.write('안녕, 희수!')\n",
        "for i in [1,2,3,4,5]:\n",
        "    f.write(f'{i+1}번 째 줄\\n')\n",
        "f.close()"
      ],
      "execution_count": 1,
      "outputs": []
    },
    {
      "cell_type": "code",
      "metadata": {
        "id": "8g48fMk8DiIA"
      },
      "source": [
        "# 텍스트 파일 읽기\n",
        "text = ''\n",
        "with open(\"test.txt\", \"r\", encoding=\"utf-8\") as f: # with open: 파일 열고 실행이 다 끝나면 닫아라\n",
        "    lines = f.readlines() # 한 줄씩 읽음\n",
        "    for line in lines:\n",
        "      # print(line) # print는 enter 포함\n",
        "      text += line\n",
        "\n",
        "print(text)"
      ],
      "execution_count": null,
      "outputs": []
    },
    {
      "cell_type": "markdown",
      "metadata": {
        "id": "Z1P0g3SmKuEb"
      },
      "source": [
        "### 1. 카카오톡 대화 내보내기 > 파일 저장\n",
        "### 2. 워드 클라우드 패키지 설치"
      ]
    },
    {
      "cell_type": "code",
      "metadata": {
        "id": "7XuqnqVlL7bP"
      },
      "source": [
        "# 폰트 검색 코드\n",
        "\n",
        "import matplotlib.font_manager as fm\n",
        "\n",
        "# 이용 가능한 폰트 중 고딕만 선별\n",
        "for font in fm.fontManager.ttflist:\n",
        "    if 'Gothic' in font.name:\n",
        "        print(font.name, font.fname)\n",
        "    # print 출력물 중 원하는 폰트의 경로 복사해서 사용"
      ],
      "execution_count": null,
      "outputs": []
    },
    {
      "cell_type": "code",
      "metadata": {
        "id": "J2Os6bzMMNbA"
      },
      "source": [
        "# 워드 클라우드 만들기 코드\n",
        "\n",
        "from wordcloud import WordCloud\n",
        "\n",
        "wc = WordCloud(font_path=font_path, background_color=\"white\", width=600, height=400)\n",
        "wc.generate(text)\n",
        "wc.to_file(\"result.png\")"
      ],
      "execution_count": null,
      "outputs": []
    },
    {
      "cell_type": "markdown",
      "metadata": {
        "id": "JAjEP71lM74w"
      },
      "source": [
        "### Data Cleansing 데이터 클렌징\n",
        "\n",
        "결과물 -> 오전, 오후, 시간, 닉네임 등 불필요한 텍스트가 섞여 나옴 => 데이터 클렌징 필요\n",
        "\n",
        "Data Cleansing: 데이터 전처리(preprocessing) 과정의 하나. 우리가 원하는 자료를 얻기 위해 불필요한 데이터들을 제거하는 것."
      ]
    },
    {
      "cell_type": "code",
      "metadata": {
        "id": "khXAAvWzNJO2"
      },
      "source": [
        "text = ''\n",
        "with open(\"kakaotalk.txt\", \"r\", encoding=\"utf-8\") as f:\n",
        "    lines = f.readlines() # 한 줄씩 읽어라\n",
        "    for line in lines[3:]: # 3번째 줄을 기준으로 나뉘도록 (그 앞은 자른다)(1부터 시작, 4번째줄부터 출력됨)\n",
        "        # 시스템 메세지 삭제하고 대화 라인만 뽑아내기\n",
        "        if '] [' in line:\n",
        "            text += line.split('] ')[2].replace('이모티콘\\n', '').replace('ㅋ', '').replace('동영상', '').replace('ㅎ', '')\n",
        "            # 불필요한/의미없는 ㅋ나 ㅎ 등을 없애준다"
      ],
      "execution_count": null,
      "outputs": []
    },
    {
      "cell_type": "code",
      "metadata": {
        "id": "O6Eq990xRjoW"
      },
      "source": [
        "# 구름 이미지 다운로드\n",
        "https://s3.ap-northeast-2.amazonaws.com/materials.spartacodingclub.kr/free/cloud.png"
      ],
      "execution_count": null,
      "outputs": []
    },
    {
      "cell_type": "code",
      "metadata": {
        "id": "NHmq7CZ2Rz92"
      },
      "source": [
        "# 마스킹된 워드 클라우드 만들기 코드\n",
        "from PIL import Image\n",
        "import numpy as np\n",
        "\n",
        "mask = np.array(Image.open('cloud.png'))\n",
        "wc = WordCloud(font_path=font_path, background_color=\"white\", mask=mask)\n",
        "wc.generate(text)\n",
        "wc.to_file(\"result_masked.png\")"
      ],
      "execution_count": null,
      "outputs": []
    },
    {
      "cell_type": "markdown",
      "metadata": {
        "id": "wBcmRUguTRq5"
      },
      "source": [
        "### 전체 코드"
      ]
    },
    {
      "cell_type": "code",
      "metadata": {
        "id": "x1BAkDBIS9ny"
      },
      "source": [
        "# 전체 코드\n",
        "\n",
        "from wordcloud import WordCloud\n",
        "from PIL import Image\n",
        "import numpy as np\n",
        "\n",
        "text = ''\n",
        "with open(\"kakaotalk.txt\", \"r\", encoding=\"utf-8\") as f:\n",
        "    lines = f.readlines()\n",
        "    for line in lines[3:]:\n",
        "        if '] [' in line:\n",
        "            text += line.split('] ')[2].replace('이모티콘\\n', '').replace('ㅋ', '').replace('동영상', '').replace('ㅎ', '')\n",
        "\n",
        "wc = WordCloud(font_path='C:/WINDOWS/Fonts/.TTF', background_color=\"white\", width=600, height=400)\n",
        "wc.generate(text)\n",
        "wc.to_file(\"result.png\")\n",
        "\n",
        "# 클라우드 모양 만들기\n",
        "mask = np.array(Image.open('cloud.png'))\n",
        "wc = WordCloud(font_path='C:/WINDOWS/Fonts/.TTF', background_color=\"white\", mask=mask)\n",
        "wc.generate(text)\n",
        "wc.to_file(\"result_masked.png\")"
      ],
      "execution_count": null,
      "outputs": []
    }
  ]
}